{
 "cells": [
  {
   "cell_type": "code",
   "execution_count": 24,
   "id": "cc3eaf66-a465-4969-810f-68cca546ddd8",
   "metadata": {},
   "outputs": [
    {
     "data": {
      "text/plain": [
       "'Dut Kulang'"
      ]
     },
     "execution_count": 24,
     "metadata": {},
     "output_type": "execute_result"
    }
   ],
   "source": [
    "from datetime import datetime\n",
    "\n",
    "current_year = datetime.now().year\n",
    "\n",
    "class Student:\n",
    "    \n",
    "    TOTAL_STUDENT_COUNT = 0\n",
    "    \n",
    "    def __init__(self, name, date_of_birth, sex):\n",
    "        self.__name = name\n",
    "        self.__date_of_birth =  date_of_birth\n",
    "        self.__sex = sex\n",
    "        \n",
    "        TOTAL_STUDENT_COUNT =+ 1\n",
    "    \n",
    "    @property\n",
    "    def name(self):\n",
    "        return self.__name\n",
    "    @name.set\n",
    "    def name(self):\n",
    "        return self.__name\n",
    "\n",
    "    def __str__(self):\n",
    "        return f\"Name: {self.__name}\\n{self.__sex}\\nAge: {current_year - self.__date_of_birth}\"\n",
    "\n",
    "student1 = Student(\"Dut Kulang\", 2000, \"Male\")\n",
    "student1.name"
   ]
  },
  {
   "cell_type": "code",
   "execution_count": 22,
   "id": "88ec640e-7c88-4857-899e-a466e5e0fcb4",
   "metadata": {},
   "outputs": [
    {
     "data": {
      "text/plain": [
       "1"
      ]
     },
     "execution_count": 22,
     "metadata": {},
     "output_type": "execute_result"
    }
   ],
   "source": [
    "Student.TOTAL_STUDENT_COUNT\n"
   ]
  },
  {
   "cell_type": "code",
   "execution_count": null,
   "id": "3d05ef6f-93d4-4462-844a-88b2923c9f4c",
   "metadata": {},
   "outputs": [],
   "source": []
  }
 ],
 "metadata": {
  "kernelspec": {
   "display_name": "Python 3 (ipykernel)",
   "language": "python",
   "name": "python3"
  },
  "language_info": {
   "codemirror_mode": {
    "name": "ipython",
    "version": 3
   },
   "file_extension": ".py",
   "mimetype": "text/x-python",
   "name": "python",
   "nbconvert_exporter": "python",
   "pygments_lexer": "ipython3",
   "version": "3.12.5"
  }
 },
 "nbformat": 4,
 "nbformat_minor": 5
}
